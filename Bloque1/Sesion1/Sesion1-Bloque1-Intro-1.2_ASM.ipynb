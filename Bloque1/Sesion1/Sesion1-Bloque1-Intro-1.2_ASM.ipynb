{
 "cells": [
  {
   "cell_type": "markdown",
   "id": "7df23212",
   "metadata": {},
   "source": [
    "### **`Ejercicio 1.2`**"
   ]
  },
  {
   "cell_type": "code",
   "execution_count": 1,
   "id": "ee37a9eb",
   "metadata": {},
   "outputs": [],
   "source": [
    "var_1 = \"Módulo 1 de Python\""
   ]
  },
  {
   "cell_type": "markdown",
   "id": "24ff3b75",
   "metadata": {},
   "source": [
    "**`1.2.1`** Convierte la variable `var_1` en un texto con todas las letras en **mayúsculas**.  \n",
    "\n",
    "**`1.2.2`** Convierte la variable `var_1` en un texto con todas las letras en en **minúsculas**.  \n",
    "\n",
    "**`1.2.3`** Consulta el tamaño o la **longitud** de la variable `var_1` y calcula la división de ese numero entre _**7**_ redondeado a _**4**_ decimales.  "
   ]
  },
  {
   "cell_type": "code",
   "execution_count": 2,
   "id": "47b05c1f",
   "metadata": {},
   "outputs": [
    {
     "data": {
      "text/plain": [
       "'MÓDULO 1 DE PYTHON'"
      ]
     },
     "execution_count": 2,
     "metadata": {},
     "output_type": "execute_result"
    }
   ],
   "source": [
    "## Solución 1.2.1\n",
    "str.upper(var_1)"
   ]
  },
  {
   "cell_type": "code",
   "execution_count": 3,
   "id": "3745ed20",
   "metadata": {},
   "outputs": [
    {
     "data": {
      "text/plain": [
       "'módulo 1 de python'"
      ]
     },
     "execution_count": 3,
     "metadata": {},
     "output_type": "execute_result"
    }
   ],
   "source": [
    "## Solución 1.2.2\n",
    "str.lower(var_1)"
   ]
  },
  {
   "cell_type": "code",
   "execution_count": 4,
   "id": "660fefc9",
   "metadata": {},
   "outputs": [
    {
     "name": "stdout",
     "output_type": "stream",
     "text": [
      "18\n",
      "2.5714\n"
     ]
    }
   ],
   "source": [
    "## Solución 1.2.3\n",
    "longitud = len(var_1)\n",
    "print(longitud)\n",
    "res = round((longitud / 7), 4)\n",
    "print(res)"
   ]
  },
  {
   "cell_type": "markdown",
   "id": "75a1c5ec",
   "metadata": {},
   "source": [
    "**`1.2.4`** Añade parántesis a la siguiente operación para que el resultado final sea igual a cero (__0__).\n",
    "\n",
    "**`1.2.5`** Añade parántesis a la siguiente operación para que el resultado final sea igual a cero (__14__)."
   ]
  },
  {
   "cell_type": "code",
   "execution_count": 5,
   "id": "6f0fc519",
   "metadata": {},
   "outputs": [
    {
     "data": {
      "text/plain": [
       "4"
      ]
     },
     "execution_count": 5,
     "metadata": {},
     "output_type": "execute_result"
    }
   ],
   "source": [
    "# una operación con el resultado igual a 4\n",
    "12 - 4 * 2 - 2 + 2"
   ]
  },
  {
   "cell_type": "code",
   "execution_count": 6,
   "id": "ed94e34c",
   "metadata": {},
   "outputs": [
    {
     "data": {
      "text/plain": [
       "0"
      ]
     },
     "execution_count": 6,
     "metadata": {},
     "output_type": "execute_result"
    }
   ],
   "source": [
    "## Solución 1.2.4\n",
    "12 - (4 * 2) - (2 + 2)"
   ]
  },
  {
   "cell_type": "code",
   "execution_count": 7,
   "id": "8347f38f",
   "metadata": {},
   "outputs": [
    {
     "data": {
      "text/plain": [
       "14"
      ]
     },
     "execution_count": 7,
     "metadata": {},
     "output_type": "execute_result"
    }
   ],
   "source": [
    "## Solución 1.2.5\n",
    "12 - 4 * (2 - 2) + 2"
   ]
  },
  {
   "cell_type": "markdown",
   "id": "2d38b03f",
   "metadata": {},
   "source": [
    "#### **`Punto extra:`**  \n",
    "\n",
    "**`1.2.6`** Pide al usuario que introduzca su edad, y que después se imprima en la pantalla si es meyor de edad o no.\n"
   ]
  },
  {
   "cell_type": "code",
   "execution_count": 8,
   "id": "23a13555",
   "metadata": {},
   "outputs": [
    {
     "name": "stdout",
     "output_type": "stream",
     "text": [
      "Introduzca su edad a continuación:\n",
      "¡Eres mayor de edad!\n"
     ]
    }
   ],
   "source": [
    "## Solución 1.2.6\n",
    "print(\"Introduzca su edad a continuación:\")\n",
    "edad = input()\n",
    "res = int(edad)\n",
    "if res >= 18:\n",
    "    print(\"¡Eres mayor de edad!\")\n",
    "else:\n",
    "    print(\"¡Eres menor de edad!\")"
   ]
  }
 ],
 "metadata": {
  "kernelspec": {
   "display_name": "Python 3.9.12 ('base')",
   "language": "python",
   "name": "python3"
  },
  "language_info": {
   "codemirror_mode": {
    "name": "ipython",
    "version": 3
   },
   "file_extension": ".py",
   "mimetype": "text/x-python",
   "name": "python",
   "nbconvert_exporter": "python",
   "pygments_lexer": "ipython3",
   "version": "3.11.5"
  },
  "vscode": {
   "interpreter": {
    "hash": "ad2bdc8ecc057115af97d19610ffacc2b4e99fae6737bb82f5d7fb13d2f2c186"
   }
  }
 },
 "nbformat": 4,
 "nbformat_minor": 5
}
