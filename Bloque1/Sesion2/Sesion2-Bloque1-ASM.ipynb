{
 "cells": [
  {
   "cell_type": "markdown",
   "id": "496631ea",
   "metadata": {},
   "source": [
    "# Módulo 1: Análisis de datos en el ecosistema Python"
   ]
  },
  {
   "cell_type": "markdown",
   "id": "3a14cd3f",
   "metadata": {},
   "source": [
    "### Sesión (2)"
   ]
  },
  {
   "cell_type": "markdown",
   "id": "6acd93e7",
   "metadata": {},
   "source": [
    "**11/09/2023**"
   ]
  },
  {
   "cell_type": "markdown",
   "id": "b8bf2c63",
   "metadata": {},
   "source": [
    "# `Alejandro Sánchez Monzón`"
   ]
  },
  {
   "cell_type": "markdown",
   "id": "6361b1c5",
   "metadata": {},
   "source": [
    "---"
   ]
  },
  {
   "cell_type": "markdown",
   "id": "1dbf2292",
   "metadata": {},
   "source": [
    "### **`Ejercicio 2.1`**\n",
    "\n",
    "**`2.1.1`** Define una lista que contenga al menos 4 elementos de todos los tipos de valores permitidos en Python.  \n",
    "**`2.1.2`** Selecciona cada dos elementos (uno si otro no) desde el final de la lista.  \n",
    "**`2.1.3`** Cambia solamente la posición del primer elemento con el último elemento de la lista."
   ]
  },
  {
   "cell_type": "code",
   "execution_count": 1,
   "id": "a4071181",
   "metadata": {},
   "outputs": [
    {
     "name": "stdout",
     "output_type": "stream",
     "text": [
      "[10, 20.0, 'Hola', True]\n"
     ]
    }
   ],
   "source": [
    "## Solución\n",
    "# Ejercicio 2.1.1\n",
    "x = [10, 20.00, \"Hola\", True]\n",
    "print(x)"
   ]
  },
  {
   "cell_type": "code",
   "execution_count": 2,
   "id": "7042ff9b",
   "metadata": {},
   "outputs": [
    {
     "data": {
      "text/plain": [
       "[True, 20.0]"
      ]
     },
     "execution_count": 2,
     "metadata": {},
     "output_type": "execute_result"
    }
   ],
   "source": [
    "## Solución\n",
    "# Ejercicio 2.1.2\n",
    "x[::-2]"
   ]
  },
  {
   "cell_type": "code",
   "execution_count": 3,
   "id": "11c65878",
   "metadata": {},
   "outputs": [
    {
     "name": "stdout",
     "output_type": "stream",
     "text": [
      "[True, 20.0, 'Hola', 10]\n"
     ]
    }
   ],
   "source": [
    "## Solución\n",
    "# Ejercicio 2.1.3\n",
    "x[0], x[-1] = x[-1], x[0]\n",
    "print(x)"
   ]
  },
  {
   "cell_type": "markdown",
   "id": "86c8184d",
   "metadata": {},
   "source": [
    "---"
   ]
  },
  {
   "cell_type": "markdown",
   "id": "6be54618",
   "metadata": {},
   "source": [
    "### **`Ejercicio 2.2`**\n",
    "\n",
    "**`2.2.1`** Saca e imprime la edad de \"_Daniela_\" utilizando los datos del diccionario declarado en el siguiente ejemplo.  \n",
    "**`2.2.2`** Consulta si el \"_Centro_\" se encuentra entre las claves existentes en el diccionario o no.   \n",
    "**`2.2.3`** Construye un _set_ a partir de las edades de todos los alumnos y muestra el tamaño de esa colección.  "
   ]
  },
  {
   "cell_type": "code",
   "execution_count": 4,
   "id": "6406954d",
   "metadata": {},
   "outputs": [],
   "source": [
    "## Ejercicio 2.2\n",
    "dic_ejemplo = {'Alumnos': [\"Carlos\", \"Ana\", \"Daniela\", \"Martín\"],\n",
    "'Curso': \"Big Data\",\n",
    "'Edad': ('22', '21', '20', '22'),\n",
    "'Presencial': True\n",
    "}"
   ]
  },
  {
   "cell_type": "code",
   "execution_count": 5,
   "id": "38861c7b",
   "metadata": {},
   "outputs": [
    {
     "name": "stdout",
     "output_type": "stream",
     "text": [
      "Edad:  20\n"
     ]
    }
   ],
   "source": [
    "## Solución\n",
    "# Ejercicio 2.2.1\n",
    "print(\"Edad: \", dic_ejemplo[\"Edad\"][dic_ejemplo[\"Alumnos\"].index(\"Daniela\")])"
   ]
  },
  {
   "cell_type": "code",
   "execution_count": 6,
   "id": "5fd0fd07",
   "metadata": {},
   "outputs": [
    {
     "name": "stdout",
     "output_type": "stream",
     "text": [
      "False\n"
     ]
    }
   ],
   "source": [
    "## Solución\n",
    "# Ejercicio 2.2.2\n",
    "print(\"Centro\" in dic_ejemplo.keys())"
   ]
  },
  {
   "cell_type": "code",
   "execution_count": 13,
   "id": "17546036",
   "metadata": {},
   "outputs": [
    {
     "data": {
      "text/plain": [
       "3"
      ]
     },
     "execution_count": 13,
     "metadata": {},
     "output_type": "execute_result"
    }
   ],
   "source": [
    "## Solución\n",
    "# Ejercicio 2.2.3\n",
    "edades = set(dic_ejemplo[\"Edad\"])\n",
    "len(edades)"
   ]
  },
  {
   "cell_type": "markdown",
   "id": "7f12524d",
   "metadata": {},
   "source": [
    "---"
   ]
  },
  {
   "cell_type": "markdown",
   "id": "3dfe3a75",
   "metadata": {},
   "source": [
    "### **`Ejercicio 2.3`**\n",
    "\n",
    "**`2.3.1`** Recorre el listado del ejemplo y realiza las siguientes operaciones:    `[18, 50, 210, 80, 145, 333, 70, 30]`\n",
    "  - Imprime el número en caso de que sea múltiplo de 10 y menor que 200\n",
    "  - Parar el programa si llega a un número mayor que 300\n",
    "  \n"
   ]
  },
  {
   "cell_type": "code",
   "execution_count": 8,
   "id": "20dcf673",
   "metadata": {},
   "outputs": [
    {
     "name": "stdout",
     "output_type": "stream",
     "text": [
      "50\n",
      "80\n"
     ]
    }
   ],
   "source": [
    "## Solución\n",
    "# Ejercicio 2.3.1\n",
    "lista = [18, 50, 210, 80, 145, 333, 70, 30]\n",
    "\n",
    "for item in lista:\n",
    "    if item > 300:\n",
    "        break\n",
    "\n",
    "    if item%10 == 0 and item < 200:\n",
    "        print(item)\n"
   ]
  },
  {
   "cell_type": "markdown",
   "id": "d409bca4",
   "metadata": {},
   "source": [
    "**`2.3.2`** Considerando el contenido del listado *list_2_3* escribe un programa para imprimir el siguiente patrón:\n",
    "\n",
    "False  \n",
    "50  \n",
    "22.22  \n",
    "True  \n",
    "99  \n",
    "Anaconda"
   ]
  },
  {
   "cell_type": "code",
   "execution_count": 9,
   "id": "2227349a",
   "metadata": {},
   "outputs": [],
   "source": [
    "# Ejercicio 2.3.2\n",
    "# Definición de la lista \n",
    "list_2_3 = [\"Anaconda\", 99, True, 22.22, 50, False]"
   ]
  },
  {
   "cell_type": "code",
   "execution_count": 10,
   "id": "5bbc8c3b",
   "metadata": {},
   "outputs": [
    {
     "name": "stdout",
     "output_type": "stream",
     "text": [
      "False\n",
      "50\n",
      "22.22\n",
      "True\n",
      "99\n",
      "Anaconda\n"
     ]
    }
   ],
   "source": [
    "## Solución\n",
    "# Ejercicio 2.3.2\n",
    "list_2_3.reverse()\n",
    "\n",
    "for item in list_2_3:\n",
    "    print(item)"
   ]
  },
  {
   "cell_type": "markdown",
   "id": "c2064ccc",
   "metadata": {},
   "source": [
    "---"
   ]
  },
  {
   "cell_type": "markdown",
   "id": "25198217",
   "metadata": {},
   "source": [
    "### **`Ejercicio 2.4`**\n",
    "\n",
    "**`2.4.1`** Escribe una función que devuelva el número total de carácteres en un listado de cadenas de texto y aplícala sobre el ejemplo:\n",
    "  - Entrada a la función:  `[\"PEP 8\", \"PEP 248\", \"PEP 257\"]`\n",
    "  - La salida esperada:  __19__"
   ]
  },
  {
   "cell_type": "code",
   "execution_count": 11,
   "id": "057a3e70",
   "metadata": {},
   "outputs": [
    {
     "data": {
      "text/plain": [
       "19"
      ]
     },
     "execution_count": 11,
     "metadata": {},
     "output_type": "execute_result"
    }
   ],
   "source": [
    "## Solución\n",
    "# Ejercicio 2.4.1\n",
    "def total(lista):\n",
    "    total = 0\n",
    "    for i in lista:\n",
    "        total += len(i)\n",
    "\n",
    "    return total \n",
    "\n",
    "lista = [\"PEP 8\", \"PEP 248\", \"PEP 257\"]\n",
    "total(lista)"
   ]
  },
  {
   "cell_type": "markdown",
   "id": "998efabd",
   "metadata": {},
   "source": [
    "**`2.4.2`** Escribe una función lambda que sea capaz de recibir cuatro variables y retornar el valor máximo y aplícala sobre este ejemplo:\n",
    "\n",
    "  - Entrada a la función:   `143, 22, 6576, 111`\n",
    "  - La salida esperada:  __6576__\n"
   ]
  },
  {
   "cell_type": "code",
   "execution_count": 12,
   "id": "583a785b",
   "metadata": {},
   "outputs": [
    {
     "data": {
      "text/plain": [
       "6576"
      ]
     },
     "execution_count": 12,
     "metadata": {},
     "output_type": "execute_result"
    }
   ],
   "source": [
    "## Solución\n",
    "# Ejercicio 2.4.2\n",
    "lambda_max = lambda a,b,c,d: max(a, b, c, d)\n",
    "\n",
    "lambda_max(143, 22, 6576, 111)"
   ]
  }
 ],
 "metadata": {
  "kernelspec": {
   "display_name": "Python 3.9.12 ('base')",
   "language": "python",
   "name": "python3"
  },
  "language_info": {
   "codemirror_mode": {
    "name": "ipython",
    "version": 3
   },
   "file_extension": ".py",
   "mimetype": "text/x-python",
   "name": "python",
   "nbconvert_exporter": "python",
   "pygments_lexer": "ipython3",
   "version": "3.11.5"
  },
  "vscode": {
   "interpreter": {
    "hash": "ad2bdc8ecc057115af97d19610ffacc2b4e99fae6737bb82f5d7fb13d2f2c186"
   }
  }
 },
 "nbformat": 4,
 "nbformat_minor": 5
}
