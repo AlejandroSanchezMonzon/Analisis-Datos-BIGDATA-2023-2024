{
 "cells": [
  {
   "cell_type": "markdown",
   "id": "496631ea",
   "metadata": {},
   "source": [
    "# Módulo 1: Análisis de datos en el ecosistema Python"
   ]
  },
  {
   "cell_type": "markdown",
   "id": "3a14cd3f",
   "metadata": {},
   "source": [
    "### Sesión (3)"
   ]
  },
  {
   "cell_type": "markdown",
   "id": "6acd93e7",
   "metadata": {},
   "source": [
    "**18/09/2023**"
   ]
  },
  {
   "cell_type": "markdown",
   "id": "fbcfb6d6",
   "metadata": {},
   "source": [
    "# `Alejandro Sánchez Monzón`"
   ]
  },
  {
   "cell_type": "markdown",
   "id": "a53f4cc4",
   "metadata": {},
   "source": [
    "---"
   ]
  },
  {
   "cell_type": "code",
   "execution_count": 1,
   "id": "fc01e15e",
   "metadata": {},
   "outputs": [],
   "source": [
    "import numpy as np"
   ]
  },
  {
   "cell_type": "markdown",
   "id": "cc6daf0b",
   "metadata": {},
   "source": [
    "### **`Ejercicio 3.1`**\n",
    "\n",
    "**`3.1.1`** Crea un array de tamaño (6x6) con elementos aleatorios entre 0 y 10 inclusive.  \n",
    "**`3.1.2`** Calcula el total de bytes que ocupa la matriz.  \n",
    "**`3.1.3`** Calcula la media y la desviación estándar de los valores presentes en la matriz.  \n",
    "**`3.1.4`** Crea un nuevo vector, convirtiendo todos los valores del array creado en el primer paso en números decimales."
   ]
  },
  {
   "cell_type": "code",
   "execution_count": 2,
   "id": "46d8586d",
   "metadata": {},
   "outputs": [
    {
     "name": "stdout",
     "output_type": "stream",
     "text": [
      "[[ 2  1  8  7  4  0]\n",
      " [10  8  3  9  2  3]\n",
      " [ 4  3  3  5  3  7]\n",
      " [ 0  6  1  7  2  0]\n",
      " [ 1  0  7  8 10 10]\n",
      " [ 1  0  7  2  4  5]]\n"
     ]
    }
   ],
   "source": [
    "## Solución\n",
    "# Ejercicio 3.1.1\n",
    "x = np.random.randint(0, 11, (6,6))\n",
    "\n",
    "print(x)"
   ]
  },
  {
   "cell_type": "code",
   "execution_count": 3,
   "id": "917fef14",
   "metadata": {},
   "outputs": [
    {
     "name": "stdout",
     "output_type": "stream",
     "text": [
      "bytes que ocupa: 144\n"
     ]
    }
   ],
   "source": [
    "## Solución\n",
    "# Ejercicio 3.1.2\n",
    "print(\"bytes que ocupa:\", x.nbytes)"
   ]
  },
  {
   "cell_type": "code",
   "execution_count": 4,
   "id": "a9b8a6c2",
   "metadata": {},
   "outputs": [
    {
     "name": "stdout",
     "output_type": "stream",
     "text": [
      "media: 4.25\n",
      "desviación: 3.191786333700926\n"
     ]
    }
   ],
   "source": [
    "## Solución\n",
    "# Ejercicio 3.1.3\n",
    "print(\"media:\", x.mean())\n",
    "print(\"desviación:\", x.std())"
   ]
  },
  {
   "cell_type": "code",
   "execution_count": 5,
   "id": "b536fcef",
   "metadata": {},
   "outputs": [
    {
     "name": "stdout",
     "output_type": "stream",
     "text": [
      "[[ 2.  1.  8.  7.  4.  0.]\n",
      " [10.  8.  3.  9.  2.  3.]\n",
      " [ 4.  3.  3.  5.  3.  7.]\n",
      " [ 0.  6.  1.  7.  2.  0.]\n",
      " [ 1.  0.  7.  8. 10. 10.]\n",
      " [ 1.  0.  7.  2.  4.  5.]]\n"
     ]
    }
   ],
   "source": [
    "## Solución\n",
    "# Ejercicio 3.1.4\n",
    "y = np.array(x, dtype=\"float\")\n",
    "\n",
    "print(y)"
   ]
  },
  {
   "cell_type": "markdown",
   "id": "ad667003",
   "metadata": {},
   "source": [
    "---"
   ]
  },
  {
   "cell_type": "markdown",
   "id": "8b69b5ad",
   "metadata": {},
   "source": [
    "### **`Ejercicio 3.2`**\n",
    "\n",
    "**`3.2.1`** Crea un array de tamaño (5x5) con todos los elementos iguales a 11, salvo el primero y el último que deben de ser iguales a 88.  \n",
    "**`3.2.2`** Crea un array seleccionando todos los elementos excepto los de la primera fila y los de la primera columna.   \n",
    "**`3.2.3`** Crea un nuevo array redimensionando y reordenando los elementos del array obtenido en el paso anterior para que el nuevo sea de tamaño (2x8).  \n",
    "**`3.2.4`** Crea otro nuevo array con 8 elementos equidistantes entre 0 y 10.  \n",
    "**`3.2.5`** Concatena el nuevo array creado en el paso enterior con el array redimensionado de tamaño (2x8) y convierte posteriormente los valores del nuevo vector concatenado en números enteros.  \n",
    "**`3.2.6`** Separa el vector resultante en dos partes iguales. "
   ]
  },
  {
   "cell_type": "code",
   "execution_count": 6,
   "id": "903f2747",
   "metadata": {},
   "outputs": [
    {
     "name": "stdout",
     "output_type": "stream",
     "text": [
      "[[88 11 11 11 11]\n",
      " [11 11 11 11 11]\n",
      " [11 11 11 11 11]\n",
      " [11 11 11 11 11]\n",
      " [11 11 11 11 88]]\n"
     ]
    }
   ],
   "source": [
    "## Solución\n",
    "# Ejercicio 3.2.1\n",
    "x = np.full((5, 5), 11)\n",
    "\n",
    "x[0, 0] = 88\n",
    "x[-1, -1] = 88\n",
    "\n",
    "print(x)"
   ]
  },
  {
   "cell_type": "code",
   "execution_count": 7,
   "id": "899df112",
   "metadata": {},
   "outputs": [
    {
     "name": "stdout",
     "output_type": "stream",
     "text": [
      "[[11 11 11 11]\n",
      " [11 11 11 11]\n",
      " [11 11 11 11]\n",
      " [11 11 11 88]]\n"
     ]
    }
   ],
   "source": [
    "## Solución\n",
    "# Ejercicio 3.2.2\n",
    "y = x[1:, 1:]\n",
    "\n",
    "print(y)"
   ]
  },
  {
   "cell_type": "code",
   "execution_count": 8,
   "id": "183a31bf",
   "metadata": {},
   "outputs": [
    {
     "name": "stdout",
     "output_type": "stream",
     "text": [
      "[[11 11 11 11 11 11 11 11]\n",
      " [11 11 11 11 11 11 11 88]]\n"
     ]
    }
   ],
   "source": [
    "## Solución\n",
    "# Ejercicio 3.2.3\n",
    "z = y.reshape(2, 8)\n",
    "\n",
    "print(z)"
   ]
  },
  {
   "cell_type": "code",
   "execution_count": 9,
   "id": "9fb9f491",
   "metadata": {},
   "outputs": [
    {
     "name": "stdout",
     "output_type": "stream",
     "text": [
      "[ 0.          1.42857143  2.85714286  4.28571429  5.71428571  7.14285714\n",
      "  8.57142857 10.        ]\n"
     ]
    }
   ],
   "source": [
    "## Solución\n",
    "# Ejercicio 3.2.4\n",
    "e = np.linspace(0,10,8)\n",
    "\n",
    "print(e)"
   ]
  },
  {
   "cell_type": "code",
   "execution_count": 10,
   "id": "9fa6aa41",
   "metadata": {},
   "outputs": [
    {
     "name": "stdout",
     "output_type": "stream",
     "text": [
      "[[11 11 11 11 11 11 11 11]\n",
      " [11 11 11 11 11 11 11 88]\n",
      " [ 0  1  2  4  5  7  8 10]]\n"
     ]
    }
   ],
   "source": [
    "## Solución\n",
    "# Ejercicio 3.2.5\n",
    "\n",
    "# No sabía si usar 'int32' o 'int64', así que dejo solo 'int'.\n",
    "res = np.vstack((z, e.astype(\"int\")), dtype=\"int\")\n",
    "\n",
    "print(res)"
   ]
  },
  {
   "cell_type": "code",
   "execution_count": 11,
   "id": "b00d0596",
   "metadata": {},
   "outputs": [
    {
     "data": {
      "text/plain": [
       "[array([[11, 11, 11, 11],\n",
       "        [11, 11, 11, 11],\n",
       "        [ 0,  1,  2,  4]]),\n",
       " array([[11, 11, 11, 11],\n",
       "        [11, 11, 11, 88],\n",
       "        [ 5,  7,  8, 10]])]"
      ]
     },
     "execution_count": 11,
     "metadata": {},
     "output_type": "execute_result"
    }
   ],
   "source": [
    "## Solución\n",
    "# Ejercicio 3.2.6\n",
    "np.hsplit(res, 2)"
   ]
  },
  {
   "cell_type": "markdown",
   "id": "3c10a01c",
   "metadata": {},
   "source": [
    "---"
   ]
  },
  {
   "cell_type": "markdown",
   "id": "077943da",
   "metadata": {},
   "source": [
    "### **`Ejercicio 3.3`**\n",
    "\n",
    "**`3.3.1`** Crea un array de tamaño (3x4) de todos los números enteros entre 0 y 100 que sean múltiplos de 9.  \n",
    "**`3.3.2`** Filtra todos los valores del vector creado en el paso anterior de la siguiente manera:  \n",
    "- Si son valores mayores que cero y múltiplos de 5 se conservan sin cambios  \n",
    "- En el caso contratio se sustituyen con el valor -1  "
   ]
  },
  {
   "cell_type": "code",
   "execution_count": 12,
   "id": "ac58ad91",
   "metadata": {},
   "outputs": [
    {
     "name": "stdout",
     "output_type": "stream",
     "text": [
      "[[ 0  9 18 27]\n",
      " [36 45 54 63]\n",
      " [72 81 90 99]]\n"
     ]
    }
   ],
   "source": [
    "## Solución\n",
    "# Ejercicio 3.3.1\n",
    "array = np.arange(0, 100)\n",
    "arr_multiplos = array[array % 9 == 0]\n",
    "\n",
    "arr_redimensionado = arr_multiplos.reshape(3, 4)\n",
    "\n",
    "print(arr_redimensionado)\n",
    "\n",
    "# Solución alternativa (y en una línea):\n",
    "# np.arange(0, 100, 9).reshape(3, 4)"
   ]
  },
  {
   "cell_type": "code",
   "execution_count": 13,
   "id": "72ec64f8",
   "metadata": {},
   "outputs": [
    {
     "data": {
      "text/plain": [
       "array([[-1, -1, -1, -1],\n",
       "       [-1, 45, -1, -1],\n",
       "       [-1, -1, 90, -1]])"
      ]
     },
     "execution_count": 13,
     "metadata": {},
     "output_type": "execute_result"
    }
   ],
   "source": [
    "## Solución\n",
    "# Ejercicio 3.3.2\n",
    "np.where((arr_redimensionado % 5 == 0) & (arr_redimensionado > 0), arr_redimensionado, -1)"
   ]
  }
 ],
 "metadata": {
  "kernelspec": {
   "display_name": "Python 3 (ipykernel)",
   "language": "python",
   "name": "python3"
  },
  "language_info": {
   "codemirror_mode": {
    "name": "ipython",
    "version": 3
   },
   "file_extension": ".py",
   "mimetype": "text/x-python",
   "name": "python",
   "nbconvert_exporter": "python",
   "pygments_lexer": "ipython3",
   "version": "3.11.4"
  },
  "vscode": {
   "interpreter": {
    "hash": "ad2bdc8ecc057115af97d19610ffacc2b4e99fae6737bb82f5d7fb13d2f2c186"
   }
  }
 },
 "nbformat": 4,
 "nbformat_minor": 5
}
